{
 "cells": [
  {
   "cell_type": "code",
   "execution_count": 224,
   "metadata": {},
   "outputs": [],
   "source": [
    "import numpy as np\n",
    "from scipy import stats"
   ]
  },
  {
   "cell_type": "markdown",
   "metadata": {},
   "source": [
    "# Úkol 1\n",
    "Pro výpočty v úkolu 1 je využit $\\Chi^2$ - test dobré shody.<br>\n",
    "Je třeba získat skutečné četnosti z odpovědí respondentů (f<sub>real<sub>j</sub></sub>) a teoretické četnosti (f<sub>teor<sub>j</sub></sub>) pomocí bodového odhadu p:<br>\n",
    "p = x / n, kde x je celkový počet respondentů, kterým vyhovuje zimní čas, a n je celkový počet respondentů.<br>\n",
    "Jednotlivé teoretické četnosti pak lze získat vynásobením počtu respondentů v dané skupině bodovým odhadem p:<br>\n",
    "f<sub>teor<sub>j</sub></sub> = p * n<sub>j</sub><br>\n",
    "Testovací kritérium lze pak vypočítat následujícím způsobem:<br>\n",
    "$t = \\sum_{j=1}^{m} \\frac{(f_{real_j} - f_{teor_j})^2}{f_{teor_j}} \\overset{as}{\\sim} \\Chi^2(m-q-1)$, kde m je počet tříd a q je počet odhadovaných parametrů. <br>\n",
    "Doplněk kritického oboru lze vyjádřit následovně:<br>\n",
    "$\\bar{W}_\\alpha = \\Biggl \\langle 0, \\Chi^2_{1-\\alpha} \\biggr \\rangle$, kde $\\Chi^2_{1-\\alpha}$ je kvantil Pearsonova rozdělení s m-q-1 stupni volnosti."
   ]
  },
  {
   "cell_type": "code",
   "execution_count": 225,
   "metadata": {},
   "outputs": [],
   "source": [
    "# 2 velka mesta, 2 mala mesta, 3 obce, 1 okoli studenta\n",
    "resp = np.array([1327, 915, 681, 587, 284, 176, 215, 34])\n",
    "zimni = np.array([510, 324, 302, 257, 147, 66, 87, 15])\n",
    "letni = np.array([352, 284, 185, 178, 87, 58, 65, 8])\n",
    "stridat = np.array([257, 178, 124, 78, 44, 33, 31, 4])\n",
    "beznazoru = np.array([208, 129, 70, 74, 6, 19, 32, 7])\n",
    "alpha = 0.05\n",
    "\n",
    "resp_sk = np.array([np.sum(resp[:2]), np.sum(resp[2:4]), np.sum(resp[4:7])])\n",
    "zimni_sk = np.array([np.sum(zimni[:2]), np.sum(zimni[2:4]), np.sum(zimni[4:7])])\n",
    "letni_sk = np.array([np.sum(letni[:2]), np.sum(letni[2:4]), np.sum(letni[4:7])])\n",
    "stridat_sk = np.array([np.sum(stridat[:2]), np.sum(stridat[2:4]), np.sum(stridat[4:7])])\n",
    "beznazoru_sk = np.array([np.sum(beznazoru[:2]), np.sum(beznazoru[2:4]), np.sum(beznazoru[4:7])])\n"
   ]
  },
  {
   "cell_type": "code",
   "execution_count": 226,
   "metadata": {},
   "outputs": [],
   "source": [
    "def chisq(respondenti, testovane, odhad, st_volnosti):\n",
    "    testovane_teor = respondenti * p\n",
    "    print(\"Skutečné četnosti:\", testovane)\n",
    "    print(\"Teoretické četnosti: \", testovane_teor)\n",
    "    t = np.sum(np.square(testovane - testovane_teor)/testovane_teor)\n",
    "    print(\"Testovací kritérium: \", t)\n",
    "    krit_obor = stats.chi2.ppf(0.95, df=st_volnosti)\n",
    "    print(\"Doplněk kritického oboru: < 0,\", krit_obor, \">\")"
   ]
  },
  {
   "cell_type": "markdown",
   "metadata": {},
   "source": [
    "<b>a) H<sub>0</sub>: V městech, obcích a v okolí studenta je stejné procentuální zastoupení obyvatel, co preferují zimní čas.</b><br>\n",
    "H<sub>A</sub>: V městech, obcích a v okolí studenta není stejné procentuální zastoupení obyvatel, co preferují zimní čas.\n",
    "\n",
    "Při ověřování následujících třech hypotéz ( a), b) a c) ) se pracovalo s 8 skupinami. Hodnota stupně volnosti bude 6, neboť je prováděn bodový odhad (tedy 8-1-1)."
   ]
  },
  {
   "cell_type": "code",
   "execution_count": 227,
   "metadata": {},
   "outputs": [
    {
     "name": "stdout",
     "output_type": "stream",
     "text": [
      "Skutečné četnosti: [510 324 302 257 147  66  87  15]\n",
      "Teoretické četnosti:  [537.21640199 370.42427115 275.6928182  237.63830292 114.9732164\n",
      "  71.25100735  87.03958284  13.76439915]\n",
      "Testovací kritérium:  20.704110374775837\n",
      "Doplněk kritického oboru: < 0, 12.591587243743977 >\n"
     ]
    }
   ],
   "source": [
    "p = np.sum(zimni)/np.sum(resp)\n",
    "chisq(resp, zimni, p, 6)"
   ]
  },
  {
   "cell_type": "markdown",
   "metadata": {},
   "source": [
    "$20,704 \\notin \\langle 0; 12,592 \\rangle$, tedy H<sub>0</sub> zamítáme."
   ]
  },
  {
   "cell_type": "markdown",
   "metadata": {},
   "source": [
    "<b>b) H<sub>0</sub>: V městech, obcích a v okolí studenta je stejné procentuální zastoupení obyvatel, co preferují letní čas.</b><br>\n",
    "H<sub>A</sub>: V městech, obcích a v okolí studenta není stejné procentuální zastoupení obyvatel, co preferují letní čas."
   ]
  },
  {
   "cell_type": "code",
   "execution_count": 228,
   "metadata": {},
   "outputs": [
    {
     "name": "stdout",
     "output_type": "stream",
     "text": [
      "Skutečné četnosti: [352 284 185 178  87  58  65   8]\n",
      "Teoretické četnosti:  [382.78241289 263.938137   196.4392036  169.32424745  81.92178241\n",
      "  50.76842854  62.01825077   9.80753733]\n",
      "Testovací kritérium:  6.932364791415857\n",
      "Doplněk kritického oboru: < 0, 12.591587243743977 >\n"
     ]
    }
   ],
   "source": [
    "p = np.sum(letni)/np.sum(resp)\n",
    "chisq(resp, letni, p, 6)"
   ]
  },
  {
   "cell_type": "markdown",
   "metadata": {},
   "source": [
    "$6,932 \\in \\langle 0; 12,592 \\rangle$, tedy H<sub>0</sub> nezamítáme."
   ]
  },
  {
   "cell_type": "markdown",
   "metadata": {},
   "source": [
    "<b>c) H<sub>0</sub>: V městech, obcích a v okolí studenta je stejné procentuální zastoupení obyvatel, co preferují střídání času.</b><br>\n",
    "H<sub>A</sub>: V městech, obcích a v okolí studenta není stejné procentuální zastoupení obyvatel, co preferují střídání času."
   ]
  },
  {
   "cell_type": "code",
   "execution_count": 229,
   "metadata": {},
   "outputs": [
    {
     "name": "stdout",
     "output_type": "stream",
     "text": [
      "Skutečné četnosti: [257 178 124  78  44  33  31   4]\n",
      "Teoretické četnosti:  [235.58260251 162.44015169 120.89808011 104.21023939  50.4185826\n",
      "  31.2453188   38.16899739   6.03602749]\n",
      "Testovací kritérium:  13.058303417150736\n",
      "Doplněk kritického oboru: < 0, 12.591587243743977 >\n"
     ]
    }
   ],
   "source": [
    "p = np.sum(stridat)/np.sum(resp)\n",
    "chisq(resp, stridat, p, 6)"
   ]
  },
  {
   "cell_type": "markdown",
   "metadata": {},
   "source": [
    "$13,058 \\notin \\langle 0; 12,592 \\rangle$, tedy H<sub>0</sub> zamítáme."
   ]
  },
  {
   "cell_type": "markdown",
   "metadata": {},
   "source": [
    "<b>d) H<sub>0</sub>: U větších měst, menších měst a obcí je stejné procentuální zastoupení obyvatel, co preferují zimní čas.</b><br>\n",
    "H<sub>A</sub>: U větších měst, menších měst a obcí není stejné procentuální zastoupení obyvatel, co preferují zimní čas.\n",
    "\n",
    "Při ověřování následujících dvou hypotéz ( d), e) ) se pracuje se 3 skupinami, sloučenými podle větších měst, menších měst a obcí. Hodnota stupně volnosti bude tedy 1, neboť je prováděn bodový odhad (tedy 3-1-1)."
   ]
  },
  {
   "cell_type": "code",
   "execution_count": 230,
   "metadata": {},
   "outputs": [
    {
     "name": "stdout",
     "output_type": "stream",
     "text": [
      "Skutečné četnosti: [834 559 300]\n",
      "Teoretické četnosti:  [906.97873357 512.9567503  273.06451613]\n",
      "Testovací kritérium:  12.661948651569508\n",
      "Doplněk kritického oboru: < 0, 3.841458820694124 >\n"
     ]
    }
   ],
   "source": [
    "p = np.sum(zimni_sk)/np.sum(resp_sk)\n",
    "chisq(resp_sk, zimni_sk, p, 1)"
   ]
  },
  {
   "cell_type": "markdown",
   "metadata": {},
   "source": [
    "$12,66 \\notin \\langle 0; 3,84 \\rangle$, tedy H<sub>0</sub> zamítáme."
   ]
  },
  {
   "cell_type": "markdown",
   "metadata": {},
   "source": [
    "<b>e) H<sub>0</sub>: U větších měst, menších měst a obcí je stejné procentuální zastoupení nerozhodnutelných obyvatel.</b><br>\n",
    "H<sub>A</sub>: U větších měst, menších měst a obcí není stejné procentuální zastoupení nerozhodnutelných obyvatel."
   ]
  },
  {
   "cell_type": "code",
   "execution_count": 231,
   "metadata": {},
   "outputs": [
    {
     "name": "stdout",
     "output_type": "stream",
     "text": [
      "Skutečné četnosti: [337 144  57]\n",
      "Teoretické četnosti:  [288.21887694 163.00692951  86.77419355]\n",
      "Testovací kritérium:  20.688664757394136\n",
      "Doplněk kritického oboru: < 0, 3.841458820694124 >\n"
     ]
    }
   ],
   "source": [
    "p = np.sum(beznazoru_sk)/np.sum(resp_sk)\n",
    "chisq(resp_sk, beznazoru_sk, p, 1)"
   ]
  },
  {
   "cell_type": "markdown",
   "metadata": {},
   "source": [
    "$20,69 \\notin \\langle 0; 3,84 \\rangle$, tedy H<sub>0</sub> zamítáme."
   ]
  },
  {
   "cell_type": "markdown",
   "metadata": {},
   "source": [
    "f) Na základě odpovědí z okolí studenta zkuste určit z dat, zda student prováděl výzkum ve větším městě, menším městě nebo v obci. Porovnejte výsledek se skutečností a okomentujte."
   ]
  },
  {
   "cell_type": "code",
   "execution_count": 232,
   "metadata": {},
   "outputs": [
    {
     "name": "stdout",
     "output_type": "stream",
     "text": [
      "Doplněk kritického oboru: < 0, 5.991464547107979 >\n",
      "H0: Student prováděl výzkum ve větším městě.\n",
      "Power_divergenceResult(statistic=2.438784599437811, pvalue=0.11836790712014167)\n",
      "H0: Student prováděl výzkum v menším městě.\n",
      "Power_divergenceResult(statistic=3.230669566985398, pvalue=0.07227113427356965)\n",
      "H0: Student prováděl výzkum v obci.\n",
      "Power_divergenceResult(statistic=6.947865988500661, pvalue=0.008391928065668765)\n"
     ]
    }
   ],
   "source": [
    "np.set_printoptions(suppress=True) \n",
    "def chisq_f(sk_index):\n",
    "    p_zimni = np.sum(zimni_sk[sk_index])/np.sum(resp_sk[sk_index])\n",
    "    p_letni = np.sum(letni_sk[sk_index])/np.sum(resp_sk[sk_index])\n",
    "    p_stridani = np.sum(stridat_sk[sk_index])/np.sum(resp_sk[sk_index])\n",
    "    p_beznazoru = np.sum(beznazoru_sk[sk_index])/np.sum(resp_sk[sk_index])\n",
    "    vyzkum = [zimni[7], letni[7], stridat[7], beznazoru[7]]\n",
    "    celkem = np.sum(vyzkum)\n",
    "    vyzkum_teor = [celkem*p_zimni, celkem*p_letni, celkem*p_stridani, celkem*p_beznazoru]\n",
    "    print(stats.chisquare(f_obs = vyzkum, f_exp = vyzkum_teor, ddof=2))\n",
    "\n",
    "krit_obor = stats.chi2.ppf(0.95, df=2)\n",
    "print(\"Doplněk kritického oboru: < 0,\", krit_obor, \">\")\n",
    "print(\"H0: Student prováděl výzkum ve větším městě.\")\n",
    "chisq_f(0)\n",
    "print(\"H0: Student prováděl výzkum v menším městě.\")\n",
    "chisq_f(1)\n",
    "print(\"H0: Student prováděl výzkum v obci.\")\n",
    "chisq_f(2)\n"
   ]
  },
  {
   "cell_type": "markdown",
   "metadata": {},
   "source": [
    "Na základě p-values lze zjistit, že hypotézy o provedení výzkumu ve větším nebo menším městě zamítnuty nebyly, naopak hypotéza o provedení výzkumu v obci byla zamítnuta. Tyto výsledky jsou srovnatelné s realitou, neboť výzkum byl prováděn v menším městě i větším městě, s převahou obyvatel z většího města. Dá se tedy vyvodit, že pozorované a dodané odpovědi souhlasí."
   ]
  }
 ],
 "metadata": {
  "kernelspec": {
   "display_name": "Python 3.8.13 ('base')",
   "language": "python",
   "name": "python3"
  },
  "language_info": {
   "codemirror_mode": {
    "name": "ipython",
    "version": 3
   },
   "file_extension": ".py",
   "mimetype": "text/x-python",
   "name": "python",
   "nbconvert_exporter": "python",
   "pygments_lexer": "ipython3",
   "version": "3.8.13"
  },
  "orig_nbformat": 4,
  "vscode": {
   "interpreter": {
    "hash": "647c3ce64904b5b9952d2a23c3d5af474ae8ec289a1e851f1cf72999d09406ac"
   }
  }
 },
 "nbformat": 4,
 "nbformat_minor": 2
}
