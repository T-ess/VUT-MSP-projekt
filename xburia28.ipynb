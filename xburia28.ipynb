{
 "cells": [
  {
   "cell_type": "code",
   "execution_count": 324,
   "metadata": {},
   "outputs": [],
   "source": [
    "import numpy as np\n",
    "from scipy import stats\n",
    "import openpyxl as px\n",
    "import statsmodels.api as sm\n",
    "import pandas as pd"
   ]
  },
  {
   "cell_type": "markdown",
   "metadata": {},
   "source": [
    "# Úkol 1\n",
    "Pro výpočty v úkolu 1 je využit $\\Chi^2$ - test dobré shody.<br>\n",
    "Je třeba získat skutečné četnosti z odpovědí respondentů ($f_{real_j}$) a teoretické četnosti ($f_{teor_j}$) pomocí bodového odhadu p:<br>\n",
    "$p = x / n$, kde x je celkový počet respondentů, kterým vyhovuje zimní čas, a n je celkový počet respondentů.<br>\n",
    "Jednotlivé teoretické četnosti pak lze získat vynásobením počtu respondentů v dané skupině bodovým odhadem p:<br>\n",
    "f<sub>teor<sub>j</sub></sub> = p * n<sub>j</sub><br>\n",
    "Testovací kritérium lze pak vypočítat následujícím způsobem:<br>\n",
    "$t = \\sum_{j=1}^{m} \\frac{(f_{real_j} - f_{teor_j})^2}{f_{teor_j}} \\overset{as}{\\sim} \\Chi^2(m-q-1)$, kde m je počet tříd a q je počet odhadovaných parametrů. <br>\n",
    "Doplněk kritického oboru lze vyjádřit následovně:<br>\n",
    "$\\bar{W}_\\alpha = \\Biggl \\langle 0, \\Chi^2_{1-\\alpha} \\biggr \\rangle$, kde $\\Chi^2_{1-\\alpha}$ je kvantil Pearsonova rozdělení s m-q-1 stupni volnosti."
   ]
  },
  {
   "cell_type": "code",
   "execution_count": 325,
   "metadata": {},
   "outputs": [],
   "source": [
    "# 2 velka mesta, 2 mala mesta, 3 obce, 1 okoli studenta\n",
    "resp = np.array([1327, 915, 681, 587, 284, 176, 215, 34])\n",
    "zimni = np.array([510, 324, 302, 257, 147, 66, 87, 15])\n",
    "letni = np.array([352, 284, 185, 178, 87, 58, 65, 8])\n",
    "stridat = np.array([257, 178, 124, 78, 44, 33, 31, 4])\n",
    "beznazoru = np.array([208, 129, 70, 74, 6, 19, 32, 7])\n",
    "\n",
    "resp_sk = np.array([np.sum(resp[:2]), np.sum(resp[2:4]), np.sum(resp[4:7])])\n",
    "zimni_sk = np.array([np.sum(zimni[:2]), np.sum(zimni[2:4]), np.sum(zimni[4:7])])\n",
    "letni_sk = np.array([np.sum(letni[:2]), np.sum(letni[2:4]), np.sum(letni[4:7])])\n",
    "stridat_sk = np.array([np.sum(stridat[:2]), np.sum(stridat[2:4]), np.sum(stridat[4:7])])\n",
    "beznazoru_sk = np.array([np.sum(beznazoru[:2]), np.sum(beznazoru[2:4]), np.sum(beznazoru[4:7])])\n"
   ]
  },
  {
   "cell_type": "code",
   "execution_count": 326,
   "metadata": {},
   "outputs": [],
   "source": [
    "def chisq(respondenti, testovane, odhad, st_volnosti):\n",
    "    testovane_teor = respondenti * p\n",
    "    print(\"Skutečné četnosti:\", testovane)\n",
    "    print(\"Teoretické četnosti: \", testovane_teor)\n",
    "    t = np.sum(np.square(testovane - testovane_teor)/testovane_teor)\n",
    "    print(\"Testovací kritérium: \", t)\n",
    "    krit_obor = stats.chi2.ppf(0.95, df=st_volnosti)\n",
    "    print(\"Doplněk kritického oboru: < 0,\", krit_obor, \">\")"
   ]
  },
  {
   "cell_type": "markdown",
   "metadata": {},
   "source": [
    "<b>a) H<sub>0</sub>: V městech, obcích a v okolí studenta je stejné procentuální zastoupení obyvatel, co preferují zimní čas.</b><br>\n",
    "H<sub>A</sub>: V městech, obcích a v okolí studenta není stejné procentuální zastoupení obyvatel, co preferují zimní čas.\n",
    "\n",
    "Při ověřování následujících třech hypotéz ( a), b) a c) ) se pracovalo s 8 skupinami. Hodnota stupně volnosti bude 6, neboť je prováděn bodový odhad (tedy 8-1-1)."
   ]
  },
  {
   "cell_type": "code",
   "execution_count": 327,
   "metadata": {},
   "outputs": [
    {
     "name": "stdout",
     "output_type": "stream",
     "text": [
      "Skutečné četnosti: [510 324 302 257 147  66  87  15]\n",
      "Teoretické četnosti:  [537.21640199 370.42427115 275.6928182  237.63830292 114.9732164\n",
      "  71.25100735  87.03958284  13.76439915]\n",
      "Testovací kritérium:  20.704110374775837\n",
      "Doplněk kritického oboru: < 0, 12.591587243743977 >\n"
     ]
    }
   ],
   "source": [
    "p = np.sum(zimni)/np.sum(resp)\n",
    "chisq(resp, zimni, p, 6)"
   ]
  },
  {
   "cell_type": "markdown",
   "metadata": {},
   "source": [
    "$20,704 \\notin \\langle 0; 12,592 \\rangle$, tedy H<sub>0</sub> zamítáme."
   ]
  },
  {
   "cell_type": "markdown",
   "metadata": {},
   "source": [
    "<b>b) H<sub>0</sub>: V městech, obcích a v okolí studenta je stejné procentuální zastoupení obyvatel, co preferují letní čas.</b><br>\n",
    "H<sub>A</sub>: V městech, obcích a v okolí studenta není stejné procentuální zastoupení obyvatel, co preferují letní čas."
   ]
  },
  {
   "cell_type": "code",
   "execution_count": 328,
   "metadata": {},
   "outputs": [
    {
     "name": "stdout",
     "output_type": "stream",
     "text": [
      "Skutečné četnosti: [352 284 185 178  87  58  65   8]\n",
      "Teoretické četnosti:  [382.78241289 263.938137   196.4392036  169.32424745  81.92178241\n",
      "  50.76842854  62.01825077   9.80753733]\n",
      "Testovací kritérium:  6.932364791415857\n",
      "Doplněk kritického oboru: < 0, 12.591587243743977 >\n"
     ]
    }
   ],
   "source": [
    "p = np.sum(letni)/np.sum(resp)\n",
    "chisq(resp, letni, p, 6)"
   ]
  },
  {
   "cell_type": "markdown",
   "metadata": {},
   "source": [
    "$6,932 \\in \\langle 0; 12,592 \\rangle$, tedy H<sub>0</sub> nezamítáme."
   ]
  },
  {
   "cell_type": "markdown",
   "metadata": {},
   "source": [
    "<b>c) H<sub>0</sub>: V městech, obcích a v okolí studenta je stejné procentuální zastoupení obyvatel, co preferují střídání času.</b><br>\n",
    "H<sub>A</sub>: V městech, obcích a v okolí studenta není stejné procentuální zastoupení obyvatel, co preferují střídání času."
   ]
  },
  {
   "cell_type": "code",
   "execution_count": 329,
   "metadata": {},
   "outputs": [
    {
     "name": "stdout",
     "output_type": "stream",
     "text": [
      "Skutečné četnosti: [257 178 124  78  44  33  31   4]\n",
      "Teoretické četnosti:  [235.58260251 162.44015169 120.89808011 104.21023939  50.4185826\n",
      "  31.2453188   38.16899739   6.03602749]\n",
      "Testovací kritérium:  13.058303417150736\n",
      "Doplněk kritického oboru: < 0, 12.591587243743977 >\n"
     ]
    }
   ],
   "source": [
    "p = np.sum(stridat)/np.sum(resp)\n",
    "chisq(resp, stridat, p, 6)"
   ]
  },
  {
   "cell_type": "markdown",
   "metadata": {},
   "source": [
    "$13,058 \\notin \\langle 0; 12,592 \\rangle$, tedy H<sub>0</sub> zamítáme."
   ]
  },
  {
   "cell_type": "markdown",
   "metadata": {},
   "source": [
    "<b>d) H<sub>0</sub>: U větších měst, menších měst a obcí je stejné procentuální zastoupení obyvatel, co preferují zimní čas.</b><br>\n",
    "H<sub>A</sub>: U větších měst, menších měst a obcí není stejné procentuální zastoupení obyvatel, co preferují zimní čas.\n",
    "\n",
    "Při ověřování následujících dvou hypotéz ( d), e) ) se pracuje se 3 skupinami, sloučenými podle větších měst, menších měst a obcí. Hodnota stupně volnosti bude tedy 1, neboť je prováděn bodový odhad (tedy 3-1-1)."
   ]
  },
  {
   "cell_type": "code",
   "execution_count": 330,
   "metadata": {},
   "outputs": [
    {
     "name": "stdout",
     "output_type": "stream",
     "text": [
      "Skutečné četnosti: [834 559 300]\n",
      "Teoretické četnosti:  [906.97873357 512.9567503  273.06451613]\n",
      "Testovací kritérium:  12.661948651569508\n",
      "Doplněk kritického oboru: < 0, 3.841458820694124 >\n"
     ]
    }
   ],
   "source": [
    "p = np.sum(zimni_sk)/np.sum(resp_sk)\n",
    "chisq(resp_sk, zimni_sk, p, 1)"
   ]
  },
  {
   "cell_type": "markdown",
   "metadata": {},
   "source": [
    "$12,66 \\notin \\langle 0; 3,84 \\rangle$, tedy H<sub>0</sub> zamítáme."
   ]
  },
  {
   "cell_type": "markdown",
   "metadata": {},
   "source": [
    "<b>e) H<sub>0</sub>: U větších měst, menších měst a obcí je stejné procentuální zastoupení nerozhodnutelných obyvatel.</b><br>\n",
    "H<sub>A</sub>: U větších měst, menších měst a obcí není stejné procentuální zastoupení nerozhodnutelných obyvatel."
   ]
  },
  {
   "cell_type": "code",
   "execution_count": 331,
   "metadata": {},
   "outputs": [
    {
     "name": "stdout",
     "output_type": "stream",
     "text": [
      "Skutečné četnosti: [337 144  57]\n",
      "Teoretické četnosti:  [288.21887694 163.00692951  86.77419355]\n",
      "Testovací kritérium:  20.688664757394136\n",
      "Doplněk kritického oboru: < 0, 3.841458820694124 >\n"
     ]
    }
   ],
   "source": [
    "p = np.sum(beznazoru_sk)/np.sum(resp_sk)\n",
    "chisq(resp_sk, beznazoru_sk, p, 1)"
   ]
  },
  {
   "cell_type": "markdown",
   "metadata": {},
   "source": [
    "$20,69 \\notin \\langle 0; 3,84 \\rangle$, tedy H<sub>0</sub> zamítáme."
   ]
  },
  {
   "cell_type": "markdown",
   "metadata": {},
   "source": [
    "f) Na základě odpovědí z okolí studenta zkuste určit z dat, zda student prováděl výzkum ve větším městě, menším městě nebo v obci. Porovnejte výsledek se skutečností a okomentujte."
   ]
  },
  {
   "cell_type": "code",
   "execution_count": 332,
   "metadata": {},
   "outputs": [
    {
     "name": "stdout",
     "output_type": "stream",
     "text": [
      "Doplněk kritického oboru: < 0, 5.991464547107979 >\n",
      "H0: Student prováděl výzkum ve větším městě.\n",
      "Power_divergenceResult(statistic=2.438784599437811, pvalue=0.11836790712014167)\n",
      "H0: Student prováděl výzkum v menším městě.\n",
      "Power_divergenceResult(statistic=3.230669566985398, pvalue=0.07227113427356965)\n",
      "H0: Student prováděl výzkum v obci.\n",
      "Power_divergenceResult(statistic=6.947865988500661, pvalue=0.008391928065668765)\n"
     ]
    }
   ],
   "source": [
    "np.set_printoptions(suppress=True) \n",
    "def chisq_f(sk_index):\n",
    "    p_zimni = np.sum(zimni_sk[sk_index])/np.sum(resp_sk[sk_index])\n",
    "    p_letni = np.sum(letni_sk[sk_index])/np.sum(resp_sk[sk_index])\n",
    "    p_stridani = np.sum(stridat_sk[sk_index])/np.sum(resp_sk[sk_index])\n",
    "    p_beznazoru = np.sum(beznazoru_sk[sk_index])/np.sum(resp_sk[sk_index])\n",
    "    vyzkum = [zimni[7], letni[7], stridat[7], beznazoru[7]]\n",
    "    celkem = np.sum(vyzkum)\n",
    "    vyzkum_teor = [celkem*p_zimni, celkem*p_letni, celkem*p_stridani, celkem*p_beznazoru]\n",
    "    print(stats.chisquare(f_obs = vyzkum, f_exp = vyzkum_teor, ddof=2))\n",
    "\n",
    "krit_obor = stats.chi2.ppf(0.95, df=2)\n",
    "print(\"Doplněk kritického oboru: < 0,\", krit_obor, \">\")\n",
    "print(\"H0: Student prováděl výzkum ve větším městě.\")\n",
    "chisq_f(0)\n",
    "print(\"H0: Student prováděl výzkum v menším městě.\")\n",
    "chisq_f(1)\n",
    "print(\"H0: Student prováděl výzkum v obci.\")\n",
    "chisq_f(2)\n"
   ]
  },
  {
   "cell_type": "markdown",
   "metadata": {},
   "source": [
    "Na základě p-values lze zjistit, že hypotézy o provedení výzkumu ve větším nebo menším městě zamítnuty nebyly, naopak hypotéza o provedení výzkumu v obci byla zamítnuta. Tyto výsledky jsou srovnatelné s realitou, neboť výzkum byl prováděn v menším městě i větším městě, s převahou obyvatel z většího města. Dá se tedy vyvodit, že pozorované a dodané odpovědi souhlasí."
   ]
  },
  {
   "cell_type": "markdown",
   "metadata": {},
   "source": [
    "# Úkol 2"
   ]
  },
  {
   "cell_type": "markdown",
   "metadata": {},
   "source": [
    "<b>a) Určení vhodného modelu.</b><br>\n",
    "Pro vytvoření modelu a další práci s ním byla využita knihovna <i>statsmodels</i>.<br>\n",
    "Daný model $Z = \\beta_1 + \\beta_2X + \\beta_3Y + \\beta_4X^2 + \\beta_5Y^2 + \\beta_6X*Y$ může být zjednodušen až na model $Z = \\beta_1$. Je vhodné odstranit nulové parametry pro zjednodušení modelu. Ty mohou být určeny například hodnotou P>|t|, která značí p-value pro hypotézu, že daný parametr je nulový. Pokud je tedy tato hodnota vyšší, než hodnota $\\alpha = 0,05$, nezamítá se hypotéza, že je parametr nulový, a může být potenciálně odstraněn. Vždy musí být přihlíženo na vhodnost modelu, která může být určena pomocí koeficientu determinace R<sup>2</sup>."
   ]
  },
  {
   "cell_type": "code",
   "execution_count": 333,
   "metadata": {},
   "outputs": [
    {
     "name": "stdout",
     "output_type": "stream",
     "text": [
      "                            OLS Regression Results                            \n",
      "==============================================================================\n",
      "Dep. Variable:                      y   R-squared:                       0.981\n",
      "Model:                            OLS   Adj. R-squared:                  0.980\n",
      "Method:                 Least Squares   F-statistic:                     661.5\n",
      "Date:                Sun, 11 Dec 2022   Prob (F-statistic):           1.14e-53\n",
      "Time:                        15:18:46   Log-Likelihood:                -242.05\n",
      "No. Observations:                  70   AIC:                             496.1\n",
      "Df Residuals:                      64   BIC:                             509.6\n",
      "Df Model:                           5                                         \n",
      "Covariance Type:            nonrobust                                         \n",
      "==============================================================================\n",
      "                 coef    std err          t      P>|t|      [0.025      0.975]\n",
      "------------------------------------------------------------------------------\n",
      "const         -2.9131      3.846     -0.757      0.452     -10.596       4.770\n",
      "x1             0.6598      0.600      1.100      0.276      -0.539       1.859\n",
      "x2            -0.0397      1.133     -0.035      0.972      -2.302       2.223\n",
      "x3             0.4663      0.027     17.424      0.000       0.413       0.520\n",
      "x4            -0.0662      0.100     -0.664      0.509      -0.266       0.133\n",
      "x5            -1.0241      0.045    -22.688      0.000      -1.114      -0.934\n",
      "==============================================================================\n",
      "Omnibus:                        0.359   Durbin-Watson:                   1.712\n",
      "Prob(Omnibus):                  0.836   Jarque-Bera (JB):                0.391\n",
      "Skew:                          -0.162   Prob(JB):                        0.822\n",
      "Kurtosis:                       2.830   Cond. No.                         839.\n",
      "==============================================================================\n",
      "\n",
      "Notes:\n",
      "[1] Standard Errors assume that the covariance matrix of the errors is correctly specified.\n"
     ]
    }
   ],
   "source": [
    "W = px.load_workbook('data.xlsx')\n",
    "p = W['data']\n",
    "dataX = np.asarray([ p['A%s'%i].value for i in range(5,75) ])\n",
    "dataY = np.asarray([ p['B%s'%i].value for i in range(5,75) ])\n",
    "dataZ = np.asarray([ p['D%s'%i].value for i in range(5,75) ])\n",
    "\n",
    "F = np.column_stack((dataX, dataY, dataX**2, dataY**2, dataX*dataY))\n",
    "F = sm.add_constant(F)\n",
    "model = sm.OLS(dataZ, F).fit()\n",
    "print(model.summary())"
   ]
  },
  {
   "cell_type": "markdown",
   "metadata": {},
   "source": [
    "Podle hodnot P>|t| lze rozpoznat, že parametry x1, x2 a x4 lze odstranit. Hodnota R<sup>2</sup> je bez odstranění parametrů 0,981."
   ]
  },
  {
   "cell_type": "code",
   "execution_count": 334,
   "metadata": {},
   "outputs": [
    {
     "name": "stdout",
     "output_type": "stream",
     "text": [
      "                            OLS Regression Results                            \n",
      "==============================================================================\n",
      "Dep. Variable:                      y   R-squared:                       0.980\n",
      "Model:                            OLS   Adj. R-squared:                  0.979\n",
      "Method:                 Least Squares   F-statistic:                     1610.\n",
      "Date:                Sun, 11 Dec 2022   Prob (F-statistic):           2.29e-57\n",
      "Time:                        15:18:46   Log-Likelihood:                -244.54\n",
      "No. Observations:                  70   AIC:                             495.1\n",
      "Df Residuals:                      67   BIC:                             501.8\n",
      "Df Model:                           2                                         \n",
      "Covariance Type:            nonrobust                                         \n",
      "==============================================================================\n",
      "                 coef    std err          t      P>|t|      [0.025      0.975]\n",
      "------------------------------------------------------------------------------\n",
      "const         -2.4852      1.478     -1.681      0.097      -5.436       0.466\n",
      "x1             0.5065      0.009     55.012      0.000       0.488       0.525\n",
      "x2            -1.0657      0.024    -44.353      0.000      -1.114      -1.018\n",
      "==============================================================================\n",
      "Omnibus:                        1.755   Durbin-Watson:                   1.618\n",
      "Prob(Omnibus):                  0.416   Jarque-Bera (JB):                1.312\n",
      "Skew:                          -0.332   Prob(JB):                        0.519\n",
      "Kurtosis:                       3.094   Cond. No.                         307.\n",
      "==============================================================================\n",
      "\n",
      "Notes:\n",
      "[1] Standard Errors assume that the covariance matrix of the errors is correctly specified.\n"
     ]
    }
   ],
   "source": [
    "F = np.column_stack((dataX**2, dataX*dataY))\n",
    "F = sm.add_constant(F)\n",
    "submodel = sm.OLS(dataZ, F).fit()\n",
    "print(submodel.summary())"
   ]
  },
  {
   "cell_type": "markdown",
   "metadata": {},
   "source": [
    "Model byl postupně zjednodušen na funkci $Z = \\beta_1 + \\beta_4X^2 + \\beta_6X*Y$. Rozdíl mezi původní a novou hodnotou R<sup>2</sup>, která je nyní 0,980, není zásadní, tedy vytvořený submodel je možno použít."
   ]
  },
  {
   "cell_type": "markdown",
   "metadata": {},
   "source": [
    "<b>b) Odhady regresních parametrů metodou nejmenších čtverců a jejich 95% intervaly spolehlivosti.</b><br>\n",
    "Tyto hodnoty byly zjištěny z výše uvedeného shrnutí.\n",
    "|           \t| **[0.025** \t| **0.975]** \t| **Koeficient** \t|\n",
    "|-----------\t|------------\t|------------\t|----------------\t|\n",
    "| **const** \t|     -5.436 \t|      0.466 \t|        -2.4852 \t|\n",
    "| **x1**    \t|      0.488 \t|      0.525 \t|         0.5065 \t|\n",
    "| **x2**    \t|     -1.114 \t|     -1.018 \t|        -1.0657 \t|"
   ]
  },
  {
   "cell_type": "markdown",
   "metadata": {},
   "source": [
    "<b>c) Nestranně odhadněte rozptyl závislé proměnné.</b><br>\n",
    "Nestranný odhad rozptylu závislé proměnné Z lze určit jako $S^2 = \\frac{RSS}{n-2}$, kde RSS vyjadřuje reziduální součet čtverců. Tuto hodnotu lze z výše uvedeného modelu získat pomocí <i>mse_resid</i>, tedy $S^2 = 66,2064$."
   ]
  },
  {
   "cell_type": "code",
   "execution_count": 335,
   "metadata": {},
   "outputs": [
    {
     "data": {
      "text/plain": [
       "66.20643157748601"
      ]
     },
     "execution_count": 335,
     "metadata": {},
     "output_type": "execute_result"
    }
   ],
   "source": [
    "submodel.mse_resid"
   ]
  },
  {
   "cell_type": "markdown",
   "metadata": {},
   "source": [
    "<b>d) Vhodným testem zjistěte, že vámi zvolené dva regresní parametry jsou současně nulové.</b><br>\n",
    "H<sub>0</sub>: parametry x1 = x2 = 0<br>\n",
    "H<sub>A</sub>: některý z parametrů není roven 0<br>\n",
    "Pro ověření hypotézy nulovosti parametrů je vhodný f-test. Hodnota $F \\overset{as}{\\sim} F_{1-\\alpha}(k1, k2)$, k1 = I-1 a k2 = n-I, kde n je počet realizací a I je počet skupin (koeficientů). V tomto případě se jedná o hodnotu $F_{0,95}(1, 68)$. Tedy $F = 0,6249 \\in \\langle 0, 3,9819 \\rangle$, hypotéza H<sub>0</sub> se tak na hladině významnosti 0,05 nezamítá."
   ]
  },
  {
   "cell_type": "code",
   "execution_count": 336,
   "metadata": {},
   "outputs": [
    {
     "name": "stdout",
     "output_type": "stream",
     "text": [
      "<F test: F=0.6248911439742278, p=0.5385537138776201, df_denom=64, df_num=2>\n",
      "3.9818962563017606\n"
     ]
    }
   ],
   "source": [
    "print(model.f_test(\"x1=x2=0\"))\n",
    "print(stats.f.ppf(q=0.95, dfn=1, dfd=68))"
   ]
  },
  {
   "cell_type": "markdown",
   "metadata": {},
   "source": [
    "<b>e) Vhodným testem zjistěte, že vámi zvolené dva regresní parametry jsou současně nulové.</b><br>\n",
    "H<sub>0</sub>: parametry x1 = x2<br>\n",
    "H<sub>A</sub>: parametry x1 != x2<br>\n",
    "Pro ověření této hypotézy byl využit t-test. Lze pozorovat, že $t \\notin \\langle 1,511; 1,633 \\rangle$, tedy hypotéza H<sub>0</sub> se tak na hladině významnosti 0,05 zamítá."
   ]
  },
  {
   "cell_type": "code",
   "execution_count": 339,
   "metadata": {},
   "outputs": [
    {
     "name": "stdout",
     "output_type": "stream",
     "text": [
      "                             Test for Constraints                             \n",
      "==============================================================================\n",
      "                 coef    std err          t      P>|t|      [0.025      0.975]\n",
      "------------------------------------------------------------------------------\n",
      "c0             1.5722      0.030     51.566      0.000       1.511       1.633\n",
      "==============================================================================\n"
     ]
    }
   ],
   "source": [
    "print(submodel.t_test(\"x1=x2\"))"
   ]
  }
 ],
 "metadata": {
  "kernelspec": {
   "display_name": "Python 3.8.13 ('base')",
   "language": "python",
   "name": "python3"
  },
  "language_info": {
   "codemirror_mode": {
    "name": "ipython",
    "version": 3
   },
   "file_extension": ".py",
   "mimetype": "text/x-python",
   "name": "python",
   "nbconvert_exporter": "python",
   "pygments_lexer": "ipython3",
   "version": "3.8.13"
  },
  "orig_nbformat": 4,
  "vscode": {
   "interpreter": {
    "hash": "647c3ce64904b5b9952d2a23c3d5af474ae8ec289a1e851f1cf72999d09406ac"
   }
  }
 },
 "nbformat": 4,
 "nbformat_minor": 2
}
